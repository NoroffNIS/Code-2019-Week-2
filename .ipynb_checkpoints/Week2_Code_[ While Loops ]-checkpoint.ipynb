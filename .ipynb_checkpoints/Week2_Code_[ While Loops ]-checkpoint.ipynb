{
 "cells": [
  {
   "cell_type": "markdown",
   "metadata": {},
   "source": [
    "<style>\n",
    " .rendered_html img {margin-left: 0 !important;} \n",
    " .rendered_html table {margin-left: 0 !important;}  \n",
    "</style>\n",
    "\n",
    "<img src=https://www.noroff.no/images/logo/noroff-logo216x65.png>\n"
   ]
  },
  {
   "cell_type": "markdown",
   "metadata": {},
   "source": [
    "<img style=\"height:425px !important\" src=\"https://i.imgur.com/YlfxtAY.jpg\">\n",
    "\n",
    "## While loops"
   ]
  },
  {
   "cell_type": "code",
   "execution_count": 1,
   "metadata": {},
   "outputs": [
    {
     "data": {
      "text/plain": [
       "False"
      ]
     },
     "execution_count": 1,
     "metadata": {},
     "output_type": "execute_result"
    }
   ],
   "source": [
    "\"\"\"\n",
    "Truth statements return true or false\n",
    "\"\"\"\n",
    "\n",
    "1 == 2"
   ]
  },
  {
   "cell_type": "code",
   "execution_count": 2,
   "metadata": {},
   "outputs": [
    {
     "data": {
      "text/plain": [
       "True"
      ]
     },
     "execution_count": 2,
     "metadata": {},
     "output_type": "execute_result"
    }
   ],
   "source": [
    "1 == 1"
   ]
  },
  {
   "cell_type": "code",
   "execution_count": 4,
   "metadata": {},
   "outputs": [],
   "source": [
    "\"\"\"\n",
    "While loops use this to run while statement is true\n",
    "\"\"\"\n",
    "\n",
    "while 1==2:\n",
    "    print(True)\n",
    "    \n",
    "#nothing wil happen here since this is never true....  "
   ]
  },
  {
   "cell_type": "code",
   "execution_count": 15,
   "metadata": {},
   "outputs": [
    {
     "name": "stdout",
     "output_type": "stream",
     "text": [
      "Hello! Round: 0\n",
      "Hello! Round: 1\n",
      "Hello! Round: 2\n",
      "Hello! Round: 3\n",
      "Hello! Round: 4\n",
      "Hello! Round: 5\n"
     ]
    }
   ],
   "source": [
    "\"\"\"\n",
    "While loop based on a variable.\n",
    "\"\"\"\n",
    "\n",
    "loop_variable = 0 # loop variable\n",
    "target = 5\n",
    "truth_value = loop_variable  <= tatget #the truth statement\n",
    "\n",
    "while truth:\n",
    "    print(\"Hello! Round:\",i) # what to do\n",
    "    loop_variable+=1 # changing the vairable\n",
    "    truth_value = loop_variable  <= tatget\n",
    "    \n",
    "    "
   ]
  },
  {
   "cell_type": "code",
   "execution_count": 20,
   "metadata": {},
   "outputs": [
    {
     "name": "stdout",
     "output_type": "stream",
     "text": [
      "Hello! Round: 0\n",
      "Hello! Round: 1\n",
      "Hello! Round: 2\n",
      "Hello! Round: 3\n",
      "Hello! Round: 4\n",
      "Hello! Round: 5\n"
     ]
    }
   ],
   "source": [
    "\"\"\"\n",
    "While loop based on a variable.\n",
    "\"\"\"\n",
    "\n",
    "a = 0\n",
    "while a <= 5:\n",
    "    print(\"Hello! Round:\",a)\n",
    "    a +=1"
   ]
  },
  {
   "cell_type": "code",
   "execution_count": 13,
   "metadata": {},
   "outputs": [
    {
     "name": "stdout",
     "output_type": "stream",
     "text": [
      "$>lol\n",
      "lol\n",
      "$>hello\n",
      "hello\n",
      "$>exit\n",
      "exit\n"
     ]
    }
   ],
   "source": [
    "\"\"\"\n",
    "While loop based on a variable.\n",
    "\"\"\"\n",
    "\n",
    "text = \"\"\n",
    "\n",
    "while text != \"exit\":\n",
    "    text = input(\"$>\")\n",
    "    print(text)\n"
   ]
  },
  {
   "cell_type": "code",
   "execution_count": 17,
   "metadata": {},
   "outputs": [
    {
     "name": "stdout",
     "output_type": "stream",
     "text": [
      "$>kasjdføas\n",
      "kasjdføas\n",
      "$>hello\n",
      "hello\n",
      "$>jhdsfkjhsalf\n",
      "jhdsfkjhsalf\n",
      "$>exit\n"
     ]
    }
   ],
   "source": [
    "\"\"\"\n",
    "While loop with break\n",
    "\"\"\"\n",
    "\n",
    "while True: #will continue forever\n",
    "    text = input(\"$>\")\n",
    "    if text == \"exit\":break\n",
    "    else:print(text)\n"
   ]
  },
  {
   "cell_type": "code",
   "execution_count": null,
   "metadata": {},
   "outputs": [],
   "source": []
  }
 ],
 "metadata": {
  "kernelspec": {
   "display_name": "Python 3",
   "language": "python",
   "name": "python3"
  },
  "language_info": {
   "codemirror_mode": {
    "name": "ipython",
    "version": 3
   },
   "file_extension": ".py",
   "mimetype": "text/x-python",
   "name": "python",
   "nbconvert_exporter": "python",
   "pygments_lexer": "ipython3",
   "version": "3.7.0"
  }
 },
 "nbformat": 4,
 "nbformat_minor": 2
}
