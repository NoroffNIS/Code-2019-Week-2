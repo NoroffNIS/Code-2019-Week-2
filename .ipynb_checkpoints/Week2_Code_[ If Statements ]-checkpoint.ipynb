{
 "cells": [
  {
   "cell_type": "markdown",
   "metadata": {},
   "source": [
    "<style>\n",
    " .rendered_html img {margin-left: 0 !important;} \n",
    " .rendered_html table {margin-left: 0 !important;}  \n",
    "</style>\n",
    "\n",
    "<img src=https://www.noroff.no/images/logo/noroff-logo216x65.png>"
   ]
  },
  {
   "cell_type": "markdown",
   "metadata": {},
   "source": [
    "# If statements"
   ]
  },
  {
   "cell_type": "code",
   "execution_count": 5,
   "metadata": {},
   "outputs": [
    {
     "name": "stdout",
     "output_type": "stream",
     "text": [
      "IS 3 in the set?: True\n",
      "IS 2 greater than 1?: True\n",
      "is 2 an int? True\n"
     ]
    }
   ],
   "source": [
    "\"\"\"\n",
    "If statements use true or false values to change the flow of a program\n",
    "\"\"\"\n",
    "\n",
    "print(\"IS 3 in the set?:\",3 in {1,2,3,4})\n",
    "print(\"IS 2 greater than 1?:\", 2>1)\n",
    "print(\"is 2 an int?\", type(2)==int)\n"
   ]
  },
  {
   "cell_type": "code",
   "execution_count": 1,
   "metadata": {},
   "outputs": [
    {
     "name": "stdout",
     "output_type": "stream",
     "text": [
      "Authenticated!\n"
     ]
    }
   ],
   "source": [
    "\"\"\"\n",
    "We can then take actions based on this truth value\n",
    "\"\"\"\n",
    "uid = {99,33,22,55}\n",
    "\n",
    "if 99 in uid:\n",
    "    print(\"Authenticated!\")\n",
    "\n",
    "if not 99 in uid:\n",
    "    print(\"Unauthenticated!\")"
   ]
  },
  {
   "cell_type": "code",
   "execution_count": 8,
   "metadata": {},
   "outputs": [
    {
     "name": "stdout",
     "output_type": "stream",
     "text": [
      "Unauthenticated!\n"
     ]
    }
   ],
   "source": [
    "\"\"\"\n",
    "We can then take actions based on this truth value.\n",
    "if the statement is true.. do something! \n",
    "\"\"\"\n",
    "uid = {99,33,22,55}\n",
    "uid.discard(99)\n",
    "\n",
    "if 99 in uid:\n",
    "    print(\"Authenticated!\")\n",
    "\n",
    "if not 99 in uid:\n",
    "    print(\"Unauthenticated!\")"
   ]
  },
  {
   "cell_type": "code",
   "execution_count": 9,
   "metadata": {},
   "outputs": [
    {
     "name": "stdout",
     "output_type": "stream",
     "text": [
      "Authenticated!\n"
     ]
    }
   ],
   "source": [
    "\"\"\"¨\n",
    "We can use the else statement to show what to do if the statement returns false.\n",
    "\"\"\"\n",
    "uid = {99,33,22,55}\n",
    "\n",
    "if 99 in uid:\n",
    "    print(\"Authenticated!\")\n",
    "\n",
    "else:\n",
    "    print(\"Unauthenticated!\")\n",
    "\n"
   ]
  },
  {
   "cell_type": "code",
   "execution_count": 10,
   "metadata": {},
   "outputs": [
    {
     "name": "stdout",
     "output_type": "stream",
     "text": [
      "Unauthenticated!\n"
     ]
    }
   ],
   "source": [
    "uid = {99,33,22,55}\n",
    "uid.discard(99)\n",
    "\n",
    "if 99 in uid:\n",
    "    print(\"Authenticated!\")\n",
    "\n",
    "else:\n",
    "    print(\"Unauthenticated!\")\n"
   ]
  },
  {
   "cell_type": "code",
   "execution_count": 12,
   "metadata": {},
   "outputs": [
    {
     "name": "stdout",
     "output_type": "stream",
     "text": [
      "99 is Authenticated!\n"
     ]
    }
   ],
   "source": [
    "\"\"\"\n",
    "We can expand on this with elif\n",
    "\"\"\"\n",
    "good_id = {99,33,22,55}\n",
    "\n",
    "\n",
    "if 99 in good_id:  # if this happens nothing else happens\n",
    "    print(\"99 is Authenticated!\")\n",
    "    \n",
    "elif 33 in good_id:\n",
    "    print(\"33 is Authenticated!\")\n",
    "\n",
    "else:\n",
    "    print(\"Unauthenticated!\")\n",
    "\n"
   ]
  },
  {
   "cell_type": "code",
   "execution_count": 13,
   "metadata": {},
   "outputs": [
    {
     "name": "stdout",
     "output_type": "stream",
     "text": [
      "33 is Authenticated!\n"
     ]
    }
   ],
   "source": [
    "\"\"\"\n",
    "We can expand on this with elif\n",
    "\"\"\"\n",
    "good_id = {99,33,22,55}\n",
    "good_id.discard(99)\n",
    "\n",
    "if 99 in good_id:  # if this happens nothing else happens\n",
    "    print(\"99 is Authenticated!\")\n",
    "    \n",
    "elif 33 in good_id:\n",
    "    print(\"33 is Authenticated!\")\n",
    "    \n",
    "else:\n",
    "    print(\"Unauthenticated!\")\n",
    "\n"
   ]
  },
  {
   "cell_type": "code",
   "execution_count": 14,
   "metadata": {},
   "outputs": [
    {
     "name": "stdout",
     "output_type": "stream",
     "text": [
      "Unauthenticated!\n"
     ]
    }
   ],
   "source": [
    "\"\"\"\n",
    "We can expand on this with elif\n",
    "\"\"\"\n",
    "good_id = {99,33,22,55}\n",
    "good_id.discard(99)\n",
    "good_id.discard(33)\n",
    "\n",
    "if 99 in good_id:  # if this happens nothing else happens\n",
    "    print(\"99 is Authenticated!\")\n",
    "    \n",
    "elif 33 in good_id:\n",
    "    print(\"33 is Authenticated!\")\n",
    "    \n",
    "else:\n",
    "    print(\"Unauthenticated!\")\n"
   ]
  },
  {
   "cell_type": "code",
   "execution_count": 17,
   "metadata": {},
   "outputs": [
    {
     "name": "stdout",
     "output_type": "stream",
     "text": [
      "You drove Left!\n",
      "You drove Right!\n",
      "You drove Left!\n",
      "You drove Right!\n",
      "You are there!\n"
     ]
    }
   ],
   "source": [
    "\"\"\"\n",
    "We can nest if statements.\n",
    "\"\"\"\n",
    "directions = (\"left\",\"right\",\"left\",\"right\",\"straigh\")\n",
    "\n",
    "index=0\n",
    "\n",
    "if directions[index] == \"left\":\n",
    "    print(\"You drove Left!\")\n",
    "    index += 1\n",
    "    \n",
    "    if directions[index] == \"right\": \n",
    "        print(\"You drove Right!\")\n",
    "        index += 1\n",
    "        \n",
    "        if directions[index] == \"left\":\n",
    "            print(\"You drove Left!\")\n",
    "            index += 1\n",
    "            \n",
    "            if directions[index] == \"right\": \n",
    "                print(\"You drove Right!\")\n",
    "                index += 1\n",
    "                \n",
    "                if directions[index] == \"straigh\": \n",
    "                    print(\"You are there!\")\n",
    "                    index += 1\n",
    "                    \n",
    "                elif directions[index] == \"left\":\n",
    "                    print(\"You drove Left! You are on the wrong path!\")\n",
    "                    \n",
    "                elif directions[index] == \"right\":\n",
    "                    print(\"You drove Right! You are on the wrong path!\")\n",
    "                    \n",
    "                else:\n",
    "                    print(\"Did you stop?\")\n",
    "            else:\n",
    "                print(\"You drove Left! You are on the wrong path!\")            \n",
    "        else:\n",
    "            print(\"You drove Left! You are on the wrong path!\")\n",
    "    else:\n",
    "        print(\"You drove Left! You are on the wrong path!\")\n",
    "else:\n",
    "    print(\"You drove Right! You are on the wrong path!\")\n",
    "\n"
   ]
  },
  {
   "cell_type": "code",
   "execution_count": null,
   "metadata": {},
   "outputs": [],
   "source": []
  }
 ],
 "metadata": {
  "kernelspec": {
   "display_name": "Python 3",
   "language": "python",
   "name": "python3"
  },
  "language_info": {
   "codemirror_mode": {
    "name": "ipython",
    "version": 3
   },
   "file_extension": ".py",
   "mimetype": "text/x-python",
   "name": "python",
   "nbconvert_exporter": "python",
   "pygments_lexer": "ipython3",
   "version": "3.7.0"
  }
 },
 "nbformat": 4,
 "nbformat_minor": 2
}
