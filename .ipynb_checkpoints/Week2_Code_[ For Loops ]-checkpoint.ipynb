{
 "cells": [
  {
   "cell_type": "markdown",
   "metadata": {},
   "source": [
    "<style>\n",
    " .rendered_html img {margin-left: 0 !important;} \n",
    " .rendered_html table {margin-left: 0 !important;}  \n",
    "</style>\n",
    "\n",
    "<img src=\"https://www.noroff.no/images/logo/noroff-logo216x65.png\"/>\n"
   ]
  },
  {
   "cell_type": "markdown",
   "metadata": {},
   "source": [
    "<img style=\"height:425px !important\" src=\"https://i.imgur.com/YlfxtAY.jpg\">\n",
    "\n",
    "## For loops"
   ]
  },
  {
   "cell_type": "code",
   "execution_count": 1,
   "metadata": {},
   "outputs": [
    {
     "name": "stdout",
     "output_type": "stream",
     "text": [
      "Apple\n",
      "Banana\n",
      "Orange\n"
     ]
    }
   ],
   "source": [
    "\"\"\"\n",
    "**Name:** Writing your first program\n",
    "**Author:** Alexander Bjørnsrud\n",
    "**Created:** 2018-09-21\n",
    "**ID:** xxxxxxxx\n",
    "\"\"\"\n",
    "\n",
    "\n",
    "\n",
    "fruits = [\n",
    "    \"Apple\", \"Banana\",\"Orange\"\n",
    "]\n",
    "\n",
    "for fruit in fruits:\n",
    "    print(fruit)\n"
   ]
  },
  {
   "cell_type": "code",
   "execution_count": 3,
   "metadata": {},
   "outputs": [
    {
     "name": "stdout",
     "output_type": "stream",
     "text": [
      "Fruit Number 0 : Apple\n",
      "Fruit Number 1 : Banana\n",
      "Fruit Number 2 : Orange\n"
     ]
    }
   ],
   "source": [
    "\"\"\"\n",
    "For loop with zip and numbers\n",
    "\n",
    ".. note:: Zip allow us to take two objects and combine them so that we can unpack them later.\n",
    "\"\"\"\n",
    "\n",
    "for fruit,number in zip(fruits, range(len(fruits))):\n",
    "    print(\"Fruit Number\",number,\":\",fruit)\n",
    "    "
   ]
  },
  {
   "cell_type": "code",
   "execution_count": 1,
   "metadata": {},
   "outputs": [
    {
     "name": "stdout",
     "output_type": "stream",
     "text": [
      "<class 'range'>\n",
      "range(10, 20)\n",
      "10 11 12 13 14 15 16 17 18 19 "
     ]
    }
   ],
   "source": [
    "\"\"\"\n",
    "Using Range\n",
    "\n",
    ".. note:: Range gives us a generator generating numbers between 0 and arg 1 or arg 0 and arg 1. \n",
    ".. warning:: Range only increments until arg 1, meaning that we will get one less number than arg 1\n",
    "\"\"\"\n",
    "\n",
    "a = range(10,20)\n",
    "print(type(a))\n",
    "print(a)\n",
    "for i in a:\n",
    "    print(i, end=\" \")\n",
    "    "
   ]
  },
  {
   "cell_type": "code",
   "execution_count": 12,
   "metadata": {},
   "outputs": [
    {
     "name": "stdout",
     "output_type": "stream",
     "text": [
      "0 1 2 3 4 5 6 7 8 9 10 11 12 13 14 15 16 17 18 19 20 21 22 23 24 25 26 27 28 29 30 31 32 33 34 35 36 37 38 39 40 41 42 43 44 45 46 47 48 49 50 51 52 53 54 55 56 57 58 59 60 61 62 63 64 65 66 67 68 69 70 71 72 73 74 75 76 77 78 79 80 81 82 83 84 85 86 87 88 89 90 91 92 93 94 95 96 97 98 99 "
     ]
    }
   ],
   "source": [
    "for i in range(100):\n",
    "    print(i, end=\" \")"
   ]
  },
  {
   "cell_type": "code",
   "execution_count": 13,
   "metadata": {},
   "outputs": [
    {
     "name": "stdout",
     "output_type": "stream",
     "text": [
      "0 10 20 30 40 50 60 70 80 90 "
     ]
    }
   ],
   "source": [
    "for i in range(0,100,10):\n",
    "      print(i, end=\" \")"
   ]
  },
  {
   "cell_type": "code",
   "execution_count": 2,
   "metadata": {},
   "outputs": [
    {
     "name": "stdout",
     "output_type": "stream",
     "text": [
      "Celcius 10 is Farenheight 50.0\n",
      "Celcius 5 is Farenheight 41.0\n",
      "Celcius 0 is Farenheight 32.0\n",
      "Celcius -5 is Farenheight 23.0\n"
     ]
    }
   ],
   "source": [
    "\"\"\"\n",
    "Calculate Celcius to Farenheight\n",
    "\n",
    ".. note:: here range takes arg 2 as an increment value, and therefore we decrement by 5 degrees.\n",
    "\n",
    "+------------+--------------+\n",
    "| Celsius    | Farneheight  |\n",
    "+============+==============+\n",
    "| 10         | 50           |\n",
    "+------------+--------------+\n",
    "| 5          | 41           |\n",
    "+------------+--------------+\n",
    "| 0          | 41           |\n",
    "+------------+--------------+ \n",
    "| -5         | 23           |\n",
    "+------------+--------------+\n",
    "\n",
    "\"\"\"\n",
    "\n",
    "for number in range(10,-10,-5):\n",
    "    print(\"Celcius\",number,\"is Farenheight\",number*(9/5)+32)\n"
   ]
  },
  {
   "cell_type": "markdown",
   "metadata": {},
   "source": [
    "## Nested Loops"
   ]
  },
  {
   "cell_type": "code",
   "execution_count": 6,
   "metadata": {},
   "outputs": [
    {
     "name": "stdout",
     "output_type": "stream",
     "text": [
      "0\n",
      "1\n",
      "2\n",
      "3\n",
      "4\n",
      "5\n",
      "More than 5!\n",
      "More than 5!\n",
      "More than 5!\n",
      "More than 5!\n",
      "6\n",
      "More than 5!\n",
      "More than 5!\n",
      "More than 5!\n",
      "7\n",
      "More than 5!\n",
      "More than 5!\n",
      "8\n",
      "More than 5!\n",
      "9\n"
     ]
    }
   ],
   "source": [
    "\"\"\"\n",
    "We can use loops within loops.\n",
    "\n",
    ".. note:: This function only prints more than 5! if the outer counter is greater than 5.\n",
    ".. warning:: the while loops require that we define the variables manually.\n",
    "\"\"\"\n",
    "\n",
    "i = 0\n",
    "\n",
    "while i < 10:  #First this will run\n",
    "    print(i)\n",
    "    i += 1\n",
    "    n = i\n",
    "    while n < 10: #On every run of the previous loop this loop wil run\n",
    "        if i > 5: #if greater than 5 we print the message. \n",
    "            print(\"More than 5!\")\n",
    "        n += 1\n",
    "\n",
    "\n"
   ]
  },
  {
   "cell_type": "code",
   "execution_count": 28,
   "metadata": {},
   "outputs": [
    {
     "name": "stdout",
     "output_type": "stream",
     "text": [
      "----------------------------------------------------------------------------------------------------\n",
      "10 11 12 13 14 15 16 17 18 19 20 21 22 23 24 25 26 27 28 29 30 31 32 33 34 35 36 37 38 39 40 41 42 43 44 45 46 47 48 49 50 51 52 53 54 55 56 57 58 59 60 61 62 63 64 65 66 67 68 69 70 71 72 73 74 75 76 77 78 79 80 81 82 83 84 85 86 87 88 89 90 91 92 93 94 95 96 97 98 99 \n",
      "\n",
      "----------------------------------------------------------------------------------------------------\n",
      "10 11 12 13 14 15 16 17 18 19 20 21 22 23 24 25 26 27 28 29 30 31 32 33 34 35 36 37 38 39 40 41 42 43 44 45 46 47 48 49 50 51 52 53 54 55 56 57 58 59 60 61 62 63 64 65 66 67 68 69 70 71 72 73 74 75 76 77 78 79 80 81 82 83 84 85 86 87 88 89 90 91 92 93 94 95 96 97 98 99 \n",
      "\n",
      "----------------------------------------------------------------------------------------------------\n",
      "10 11 12 13 14 15 16 17 18 19 20 21 22 23 24 25 26 27 28 29 30 31 32 33 34 35 36 37 38 39 40 41 42 43 44 45 46 47 48 49 50 51 52 53 54 55 56 57 58 59 60 61 62 63 64 65 66 67 68 69 70 71 72 73 74 75 76 77 78 79 80 81 82 83 84 85 86 87 88 89 90 91 92 93 94 95 96 97 98 99 \n",
      "\n",
      "----------------------------------------------------------------------------------------------------\n",
      "10 11 12 13 14 15 16 17 18 19 20 21 22 23 24 25 26 27 28 29 30 31 32 33 34 35 36 37 38 39 40 41 42 43 44 45 46 47 48 49 50 51 52 53 54 55 56 57 58 59 60 61 62 63 64 65 66 67 68 69 70 71 72 73 74 75 76 77 78 79 80 81 82 83 84 85 86 87 88 89 90 91 92 93 94 95 96 97 98 99 \n",
      "\n"
     ]
    }
   ],
   "source": [
    "\"\"\"\n",
    "Since ranges are an object, we can put them in a list.\n",
    "\n",
    ".. note:: i have set end=\" \" to hinder print in printing evty number on a new line.\n",
    "\"\"\"\n",
    "\n",
    "a = (\n",
    "    range(10,100),\n",
    "    range(10,100),\n",
    "    range(10,100),\n",
    "    range(10,100)\n",
    ")\n",
    "\n",
    "for i in a:\n",
    "    print(\"-\"*100) # Prints the devider\n",
    "    for n in i:\n",
    "        print(n,end=\" \")\n",
    "        \n",
    "    print(\"\\n\")"
   ]
  },
  {
   "cell_type": "code",
   "execution_count": 7,
   "metadata": {},
   "outputs": [
    {
     "name": "stdout",
     "output_type": "stream",
     "text": [
      "5\n",
      "3 4 5 6 7 8 9 10 6\n",
      "3 4 5 6 7 8 9 10 7\n",
      "3 4 5 6 7 8 9 10 8\n",
      "3 4 5 6 7 8 9 10 9\n",
      "3 4 5 6 7 8 9 10 10\n",
      "3 4 5 6 7 8 9 10 11\n",
      "3 4 5 6 7 8 9 10 12\n",
      "3 4 5 6 7 8 9 10 13\n",
      "3 4 5 6 7 8 9 10 14\n",
      "3 4 5 6 7 8 9 10 15\n",
      "3 4 5 6 7 8 9 10 16\n",
      "3 4 5 6 7 8 9 10 17\n",
      "3 4 5 6 7 8 9 10 18\n",
      "3 4 5 6 7 8 9 10 19\n",
      "3 4 5 6 7 8 9 10 20\n"
     ]
    }
   ],
   "source": [
    "\"\"\"\n",
    "WE can use break to exit loops when a condition is met.\n",
    "\n",
    ".. warning:: when using while: True the loop will run fi\n",
    "\"\"\"\n",
    "\n",
    "i = 5\n",
    "\n",
    "while True:\n",
    "    print(i)\n",
    "    if i == 20:break\n",
    "    n = 3\n",
    "    while True:\n",
    "            print(n, end=\" \")\n",
    "            if n == 10:break\n",
    "            n+=1\n",
    "    i+=1"
   ]
  },
  {
   "cell_type": "code",
   "execution_count": null,
   "metadata": {},
   "outputs": [],
   "source": []
  }
 ],
 "metadata": {
  "kernelspec": {
   "display_name": "Python 3",
   "language": "python",
   "name": "python3"
  },
  "language_info": {
   "codemirror_mode": {
    "name": "ipython",
    "version": 3
   },
   "file_extension": ".py",
   "mimetype": "text/x-python",
   "name": "python",
   "nbconvert_exporter": "python",
   "pygments_lexer": "ipython3",
   "version": "3.7.0"
  }
 },
 "nbformat": 4,
 "nbformat_minor": 2
}
