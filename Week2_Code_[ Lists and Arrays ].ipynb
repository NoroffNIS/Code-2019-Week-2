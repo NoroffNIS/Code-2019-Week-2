{
 "cells": [
  {
   "cell_type": "markdown",
   "metadata": {},
   "source": [
    "<style>\n",
    " .rendered_html img {margin-left: 0 !important;} \n",
    " .rendered_html table {margin-left: 0 !important;}  \n",
    "</style>\n",
    "\n",
    "<img src=https://www.noroff.no/images/logo/noroff-logo216x65.png>\n",
    "\n",
    "\n",
    "# Lists\n",
    "## Creating and acessing vlues in lists"
   ]
  },
  {
   "cell_type": "code",
   "execution_count": 80,
   "metadata": {},
   "outputs": [
    {
     "name": "stdout",
     "output_type": "stream",
     "text": [
      "The items List: [1, 2, 3, 4, 5]\n",
      "The items List: 1 2 3 4 5\n"
     ]
    }
   ],
   "source": [
    "\"\"\"\n",
    "+-------------------------+\n",
    "| Lists                   |\n",
    "+-------------------------+\n",
    "| The List allows us to   |\n",
    "| store a list of         |\n",
    "| variables               |\n",
    "+-------------------------+\n",
    "\"\"\"\n",
    "\n",
    "item_one = 1\n",
    "item_two = 2\n",
    "item_three = 3\n",
    "item_four = 4\n",
    "item_five = 5\n",
    "\n",
    "\n",
    "items = [item_one, item_two, item_three, item_four, item_five]\n",
    "\n",
    "\n",
    "print(\"The items List:\", items)\n",
    "print(\"The items List:\", items[0], items[1], items[2], items[3], items[4])\n"
   ]
  },
  {
   "cell_type": "code",
   "execution_count": 81,
   "metadata": {},
   "outputs": [
    {
     "name": "stdout",
     "output_type": "stream",
     "text": [
      "0.0\n",
      "5.0\n",
      "0.0\n",
      "5.7\n"
     ]
    }
   ],
   "source": [
    "\"\"\"\n",
    "+------------------------+\n",
    "| Lists have dimensions  |  ITs sort of like Time Travel.\n",
    "+------------------------+\n",
    "\"\"\"\n",
    "\n",
    "#one dimensional\n",
    "one = [0.0,1.0,2.0,3.0,4.0,5.0,6.0,7.0,8.0,9.0]\n",
    "\n",
    "print(one[0])\n",
    "print(one[5])\n",
    "\n",
    "two = [\n",
    "    [0.0,0.1,0.2,0.3,0.4,0.5,0.6,0.7,0.8,0.9],\n",
    "    [1.0,1.1,1.2,1.3,1.4,1.5,1.6,1.7,1.8,1.9],\n",
    "    [2.0,2.1,2.2,2.3,2.4,2.5,2.6,2.7,2.9,2.9],\n",
    "    [3.0,3.1,3.2,3.3,3.4,3.5,3.6,3.7,3.8,3.9],\n",
    "    [4.0,4.1,4.2,4.3,4.4,4.5,4.6,4.7,4.8,4.9],\n",
    "    [5.0,5.1,5.2,5.3,5.4,5.5,5.6,5.7,5.8,5.9],\n",
    "    [6.0,6.1,6.2,6.3,6.4,6.5,6.6,6.7,6.8,6.9],\n",
    "    [7.0,7.1,7.2,7.3,7.4,7.5,7.6,7.7,7.8,7.9],\n",
    "    [8.0,8.1,8.2,8.3,8.4,8.5,8.6,8.7,8.8,8.9],\n",
    "    [9.0,9.1,9.2,9.3,9.4,9.5,9.6,9.7,9.8,9.9]]\n",
    "\n",
    "\n",
    "print(two[0][0])\n",
    "print(two[5][7])\n"
   ]
  },
  {
   "cell_type": "code",
   "execution_count": 100,
   "metadata": {},
   "outputs": [
    {
     "name": "stdout",
     "output_type": "stream",
     "text": [
      "[0, 1, 2, 3, 4, 5, 6, 7, 8, 9]\n",
      "5\n",
      "[1, 2, 3, 4, 5, 6]\n",
      "[[0, 1, 2, 3, 4, 5, 6, 7, 8, 9], [1, 2, 3, 4, 5, 6]]\n",
      "[[0, 1, 2, 3, 4, 5, 6, 7, 8, 9], [1, 2, 3, 4, 5, 6]]\n",
      "['H', 'e', 'l', 'l', 'o', ' ', 'W', 'o', 'r', 'l', 'd', '!']\n"
     ]
    }
   ],
   "source": [
    "\"\"\"\n",
    "Creating a list with the list function\n",
    "We can define lists using the range function.\n",
    "\n",
    "\n",
    ".. warning:: In the future cells, this will be the cell that generates the lists referenced.\n",
    "\n",
    "\"\"\"\n",
    "\n",
    "lst = range(0,10) #defining numbers between 0 and 10\n",
    "\n",
    "print(list(lst)) #creating a list form the generator\n",
    "\n",
    "print(lst[5]) #printing a number within the list of numbers\n",
    "\n",
    "lst = list(lst)\n",
    "\n",
    "lst2 = list((1,2,3,4,5,6)) # Creating a list form a list.. wait? we can do that?\n",
    "\n",
    "print(lst2) \n",
    "\n",
    "mega_lst= list((lst,lst2)) # List Ception\n",
    "\n",
    "print(mega_lst)\n",
    "\n",
    "mega_lst = [lst, lst2] # Just choose the syntax you like best, I prefer brackets instead of the list function\n",
    "\n",
    "print(mega_lst)\n",
    "\n",
    "str_lst = list(\"Hello World!\") # Creating a list from a string.\n",
    "print(str_lst)"
   ]
  },
  {
   "cell_type": "markdown",
   "metadata": {},
   "source": [
    "## Manipulating lists"
   ]
  },
  {
   "cell_type": "code",
   "execution_count": 84,
   "metadata": {},
   "outputs": [
    {
     "name": "stdout",
     "output_type": "stream",
     "text": [
      "9 0\n",
      "[1, 2, 3, 4, 5, 6, 7, 8]\n"
     ]
    }
   ],
   "source": [
    "\"\"\"\n",
    "Pop will remove the item you specify. \n",
    "If no index is specified it takes the last.\n",
    "Try running this cell several times and see the list decrement.\n",
    "If you want to reset, run the last cell.\n",
    "\"\"\"\n",
    "\n",
    "last, first = lst.pop(), lst.pop(0) \n",
    "print(last,first)\n",
    "print(lst)"
   ]
  },
  {
   "cell_type": "code",
   "execution_count": 85,
   "metadata": {},
   "outputs": [
    {
     "name": "stdout",
     "output_type": "stream",
     "text": [
      "Mega: [[1, 2, 3, 4, 5, 6, 7, 8], [1, 2, 3, 4, 5, 6]]\n",
      "Collect: [1, 2, 3, 4, 5, 6, 7, 8]\n",
      "Collect: [1, 2, 3, 4, 5, 6, 7, 8, [1, 2, 3, 4, 5, 6]]\n",
      "Collect: [1, 2, 3, 4, 5, 6, 7, 8, 6, 5, 4, 3, 2, 1]\n",
      "Mega: [[1, 2, 3, 4, 5, 6, 7, 8, 6, 5, 4, 3, 2, 1], [6, 5, 4, 3, 2, 1]]\n"
     ]
    }
   ],
   "source": [
    "\"\"\"\n",
    "Append will add one list to the end of another.\n",
    "\"\"\"\n",
    "print(\"Mega:\", mega_lst)\n",
    "\n",
    "collect_lst = mega_lst[0]\n",
    "print(\"Collect:\", collect_lst)\n",
    "\n",
    "\n",
    "collect_lst.append(mega_lst[1]) # appendst mega_lst as the last value.\n",
    "\n",
    "print(\"Collect:\", collect_lst)\n",
    "\n",
    "collect_lst.pop() # Removing the last value because we want to add the values and not the list object\n",
    "\n",
    "x = mega_lst[1].pop()# Manual labour\n",
    "collect_lst.append(x)\n",
    "\n",
    "y = mega_lst[1].pop()# Manual labour\n",
    "collect_lst.append(y)\n",
    "\n",
    "z = mega_lst[1].pop()# Manual labour\n",
    "collect_lst.append(z)\n",
    "\n",
    "f = mega_lst[1].pop()# Manual labour\n",
    "collect_lst.append(f)\n",
    "\n",
    "p = mega_lst[1].pop()# Manual labour\n",
    "collect_lst.append(p)\n",
    "\n",
    "t = mega_lst[1].pop()# Manual labour\n",
    "collect_lst.append(t)\n",
    "\n",
    "\n",
    "mega_lst.pop() #Fixing the mega list\n",
    "mega_lst.append([x,y,z,f,p,t])#Fixing the mega list\n",
    "\n",
    "print(\"Collect:\", collect_lst)\n",
    "print(\"Mega:\", mega_lst)\n",
    "\n",
    "\n"
   ]
  },
  {
   "cell_type": "code",
   "execution_count": 102,
   "metadata": {},
   "outputs": [
    {
     "name": "stdout",
     "output_type": "stream",
     "text": [
      "The diffenerce in amount of 1's in collect and the 1's in mega is: 0 \n",
      " The nuber of 1's in collect: 2 \n",
      " The nuber of 1's in mega: 2\n"
     ]
    }
   ],
   "source": [
    "\"\"\"\n",
    "The count can be used to determine the numbers of a specific item in an array.\n",
    "\n",
    "\"\"\"\n",
    "print(\n",
    "    \"The diffenerce in amount of 1's in collect and the 1's in mega is:\",\n",
    "    (collect_lst.count(1)-(mega_lst[0].count(1)+mega_lst[1].count(1))),\n",
    "    \"\\n\",\n",
    "    \"The nuber of 1's in collect:\",\n",
    "    collect_lst.count(1),\n",
    "    \"\\n\",\n",
    "    \"The nuber of 1's in mega:\",\n",
    "    (mega_lst[0].count(1)+mega_lst[1].count(1)),\n",
    ") "
   ]
  },
  {
   "cell_type": "code",
   "execution_count": 103,
   "metadata": {},
   "outputs": [
    {
     "name": "stdout",
     "output_type": "stream",
     "text": [
      "Mega: [[0, 1, 2, 3, 4, 5, 6, 7, 8, 9], [1, 1, 2, 2, 3, 3, 4, 4, 5, 5, 6, 6, 7, 8], [1, 2, 3, 4, 5, 6]]\n"
     ]
    }
   ],
   "source": [
    "\"\"\"\n",
    "Insert can be used to insert an item at a specific location in the list.\n",
    "\"\"\"\n",
    "\n",
    "mega_lst.insert(1,collect_lst) # inserting an item at a index location\n",
    "\n",
    "print(\"Mega:\", mega_lst)"
   ]
  },
  {
   "cell_type": "code",
   "execution_count": 104,
   "metadata": {},
   "outputs": [
    {
     "name": "stdout",
     "output_type": "stream",
     "text": [
      "Collect: [1, 1, 2, 2, 3, 3, 4, 4, 5, 5, 6, 6, 7, 8]\n"
     ]
    }
   ],
   "source": [
    "\"\"\"\n",
    "Sort can be used to sort all the items in a list.\n",
    "\"\"\"\n",
    "collect_lst.sort()\n",
    "\n",
    "print(\"Collect:\", collect_lst)"
   ]
  },
  {
   "cell_type": "code",
   "execution_count": 105,
   "metadata": {},
   "outputs": [
    {
     "name": "stdout",
     "output_type": "stream",
     "text": [
      "Collect: [8, 7, 6, 6, 5, 5, 4, 4, 3, 3, 2, 2, 1, 1]\n"
     ]
    }
   ],
   "source": [
    "\"\"\"\n",
    "Reverse can be used to reverse the order of a list\n",
    "\n",
    "\"\"\"\n",
    "\n",
    "collect_lst.reverse()\n",
    "\n",
    "print(\"Collect:\", collect_lst)"
   ]
  },
  {
   "cell_type": "code",
   "execution_count": 107,
   "metadata": {},
   "outputs": [
    {
     "name": "stdout",
     "output_type": "stream",
     "text": [
      "Collect: 12\n",
      "Mega: 1\n"
     ]
    }
   ],
   "source": [
    "\"\"\"\n",
    "Index can be used to return the index of a value.\n",
    "\n",
    "\"\"\"\n",
    "\n",
    "print(\"Collect:\", collect_lst.index(1))\n",
    "print(\"Mega:\", mega_lst[0].index(1))"
   ]
  },
  {
   "cell_type": "markdown",
   "metadata": {},
   "source": [
    "## Special Lists"
   ]
  },
  {
   "cell_type": "code",
   "execution_count": 117,
   "metadata": {},
   "outputs": [
    {
     "name": "stdout",
     "output_type": "stream",
     "text": [
      "(1, 2, 3, 4) <class 'tuple'>\n"
     ]
    },
    {
     "ename": "TypeError",
     "evalue": "'tuple' object does not support item assignment",
     "output_type": "error",
     "traceback": [
      "\u001b[0;31m---------------------------------------------------------------------------\u001b[0m",
      "\u001b[0;31mTypeError\u001b[0m                                 Traceback (most recent call last)",
      "\u001b[0;32m<ipython-input-117-f2947e935860>\u001b[0m in \u001b[0;36m<module>\u001b[0;34m()\u001b[0m\n\u001b[1;32m      6\u001b[0m \u001b[0mprint\u001b[0m\u001b[0;34m(\u001b[0m\u001b[0ma\u001b[0m\u001b[0;34m,\u001b[0m \u001b[0mtype\u001b[0m\u001b[0;34m(\u001b[0m\u001b[0ma\u001b[0m\u001b[0;34m)\u001b[0m\u001b[0;34m)\u001b[0m\u001b[0;34m\u001b[0m\u001b[0m\n\u001b[1;32m      7\u001b[0m \u001b[0;34m\u001b[0m\u001b[0m\n\u001b[0;32m----> 8\u001b[0;31m \u001b[0ma\u001b[0m\u001b[0;34m[\u001b[0m\u001b[0;36m3\u001b[0m\u001b[0;34m]\u001b[0m \u001b[0;34m=\u001b[0m \u001b[0;36m5\u001b[0m\u001b[0;34m\u001b[0m\u001b[0m\n\u001b[0m",
      "\u001b[0;31mTypeError\u001b[0m: 'tuple' object does not support item assignment"
     ]
    }
   ],
   "source": [
    "\"\"\"\n",
    "A tuple is immutable, it cannot be changed after assignment.\n",
    "\n",
    "\"\"\"\n",
    "\n",
    "a = (1,2,3,4)\n",
    "print(a, type(a))\n",
    "\n",
    "a[3] = 5\n"
   ]
  },
  {
   "cell_type": "code",
   "execution_count": 116,
   "metadata": {},
   "outputs": [
    {
     "name": "stdout",
     "output_type": "stream",
     "text": [
      "{1, 2, 3, 4} <class 'set'>\n",
      "Set: {1, 2, 3, 4, 5}\n",
      "List: [1, 2, 3, 4, 4, 5]\n"
     ]
    }
   ],
   "source": [
    "\"\"\"\n",
    "A set can only store unique values.\n",
    "\n",
    "\"\"\"\n",
    "\n",
    "st = {1,2,3,4}\n",
    "lst = [1,2,3,4]\n",
    "\n",
    "\n",
    "print(st,type(st))\n",
    "\n",
    "st.add(4) # four will not be added a second time since it alreaddy exists.\n",
    "lst.append(4)\n",
    "\n",
    "st.add(5) # Five will be added since it has not been seen before.\n",
    "lst.append(5)\n",
    "\n",
    "\n",
    "print(\"Set:\",st)\n",
    "print(\"List:\",lst)"
   ]
  },
  {
   "cell_type": "code",
   "execution_count": 136,
   "metadata": {},
   "outputs": [
    {
     "name": "stdout",
     "output_type": "stream",
     "text": [
      "st3: {1, 2, 3, 4}\n",
      "st1 vs st2: {4}\n",
      "st1 vs lst: set()\n",
      "intesection st1 and st2 {1, 2, 3}\n"
     ]
    }
   ],
   "source": [
    "\"\"\"\n",
    "A set have som extra functions that a list dont have.\n",
    "Copy\n",
    "Intersection\n",
    "Difference\n",
    "\n",
    "These are grate for comparison.\n",
    "For example loged in users.\n",
    "\"\"\"\n",
    "\n",
    "sts = ({1,2,3,4},{1,2,3}) # a touple of sets\n",
    "\n",
    "st1,st2 = sts #unpackign the tuple\n",
    "\n",
    "st3 = st1.copy() #copys the set\n",
    "print(\"st3:\",st3)\n",
    "\n",
    "print(\"st1 vs st2:\",st1.difference(st2)) # returns the values that dont exist in the first set\n",
    "print(\"st1 vs lst:\",st1.difference(lst)) # well for one its a set.\n",
    "\n",
    "print(\"intesection st1 and st2\",st1.intersection(st2)) # Gives all the values that both contain\n"
   ]
  },
  {
   "cell_type": "code",
   "execution_count": 141,
   "metadata": {},
   "outputs": [
    {
     "name": "stdout",
     "output_type": "stream",
     "text": [
      "Is user in uid?: True\n",
      "UID: {33, 99, 44, 22, 55}\n",
      "------------------------------\n",
      "User 99 logs out\n",
      "Is user in uid?: False\n",
      "UID: {33, 44, 22, 55}\n",
      "------------------------------\n",
      "User 99 logs in\n",
      "Is user in uid?: True\n",
      "UID: {33, 99, 44, 22, 55}\n",
      "------------------------------\n",
      "User 99 swiches to another page\n",
      "Is user in uid?: True\n",
      "UID: {33, 99, 44, 22, 55}\n"
     ]
    }
   ],
   "source": [
    "uid = {22,44,55,99,33}\n",
    "\n",
    "print(\"Is user in uid?:\",99 in uid)\n",
    "print(\"UID:\",uid)\n",
    "\n",
    "print(\"-\"*30)\n",
    "print(\"User 99 logs out\")\n",
    "uid.discard(99)\n",
    "print(\"Is user in uid?:\",99 in uid)\n",
    "print(\"UID:\",uid)\n",
    "\n",
    "print(\"-\"*30)\n",
    "print(\"User 99 logs in\")\n",
    "uid.add(99)\n",
    "print(\"Is user in uid?:\",99 in uid)\n",
    "print(\"UID:\",uid)\n",
    "\n",
    "print(\"-\"*30)\n",
    "print(\"User 99 swiches to another page\")\n",
    "uid.add(99)\n",
    "print(\"Is user in uid?:\",99 in uid)\n",
    "print(\"UID:\",uid)"
   ]
  },
  {
   "cell_type": "code",
   "execution_count": 161,
   "metadata": {},
   "outputs": [
    {
     "name": "stdout",
     "output_type": "stream",
     "text": [
      "Animals:\n",
      " dict_keys(['dogs', 'cats'])\n",
      "------------------------------\n",
      "Animals:\n",
      " dict_values([{'food': 'dog food', 'drink': 'water', 'walks': 'twice a day'}, {'food': 'cat food', 'drink': 'water', 'walks': 'walk themselves'}])\n",
      "------------------------------\n",
      "Animals:\n",
      " {'dogs': {'food': 'dog food', 'drink': 'water', 'walks': 'twice a day'}, 'cats': {'food': 'cat food', 'drink': 'water', 'walks': 'walk themselves'}}\n",
      "------------------------------\n",
      "------------------------------\n",
      "Animals -> Dogs:\n",
      " dict_keys(['food', 'drink', 'walks'])\n",
      "------------------------------\n",
      "Animals -> Dogs:\n",
      " dict_values(['dog food', 'water', 'twice a day'])\n",
      "------------------------------\n",
      "Animals -> Dogs:\n",
      " {'food': 'dog food', 'drink': 'water', 'walks': 'twice a day'}\n",
      "------------------------------\n",
      "------------------------------\n",
      "Animals -> Dogs -> walks:\n",
      " twice a day\n",
      "------------------------------\n"
     ]
    }
   ],
   "source": [
    "\"\"\"\n",
    "Assochiative List\n",
    "\"\"\"\n",
    "\n",
    "alst = {\n",
    "    \"animals\":{\n",
    "            \"dogs\":{\n",
    "                \"food\":\"dog food\",\n",
    "                \"drink\":\"water\",\n",
    "                \"walks\":\"twice a day\"\n",
    "            },\n",
    "            \"cats\":{\n",
    "                \"food\":\"cat food\",\n",
    "                \"drink\":\"water\",\n",
    "                \"walks\":\"walk themselves\"\n",
    "            }\n",
    "    },\n",
    "    \"humans\":{\n",
    "                \"food\":\"human food\",\n",
    "                \"drink\":\"water\",\n",
    "                \"walks\":\"Whenever they like\"\n",
    "            },\n",
    "    \"nerds\":{\n",
    "                \"food\":\"human food\",\n",
    "                \"drink\":\"water\",\n",
    "                \"walks\":\"NEVER!\"\n",
    "        }\n",
    "}\n",
    "\n",
    "\"\"\"\n",
    "The list contains a key->value pair\n",
    "\n",
    "\"\"\"\n",
    "print(\"Animals:\\n\",alst[\"animals\"].keys())\n",
    "print(\"-\"*30)\n",
    "print(\"Animals:\\n\",alst[\"animals\"].values())\n",
    "print(\"-\"*30)\n",
    "print(\"Animals:\\n\",alst[\"animals\"])\n",
    "print(\"-\"*30)\n",
    "print(\"-\"*30)\n",
    "\n",
    "\n",
    "\n",
    "\"\"\"\n",
    "The animal list has a sub list dogs\n",
    "\"\"\"\n",
    "print(\"Animals -> Dogs:\\n\",alst[\"animals\"][\"dogs\"].keys())\n",
    "print(\"-\"*30)\n",
    "print(\"Animals -> Dogs:\\n\",alst[\"animals\"][\"dogs\"].values())\n",
    "print(\"-\"*30)\n",
    "print(\"Animals -> Dogs:\\n\",alst[\"animals\"][\"dogs\"])\n",
    "print(\"-\"*30)\n",
    "print(\"-\"*30)\n",
    "\n",
    "\"\"\"\n",
    "When we give a list a key it wil return its value\n",
    "\"\"\"\n",
    "print(\"Animals -> Dogs -> walks:\\n\",alst[\"animals\"][\"dogs\"][\"walks\"])\n",
    "print(\"-\"*30)\n"
   ]
  },
  {
   "cell_type": "code",
   "execution_count": null,
   "metadata": {},
   "outputs": [],
   "source": []
  }
 ],
 "metadata": {
  "kernelspec": {
   "display_name": "Python 3",
   "language": "python",
   "name": "python3"
  },
  "language_info": {
   "codemirror_mode": {
    "name": "ipython",
    "version": 3
   },
   "file_extension": ".py",
   "mimetype": "text/x-python",
   "name": "python",
   "nbconvert_exporter": "python",
   "pygments_lexer": "ipython3",
   "version": "3.7.0"
  }
 },
 "nbformat": 4,
 "nbformat_minor": 2
}
